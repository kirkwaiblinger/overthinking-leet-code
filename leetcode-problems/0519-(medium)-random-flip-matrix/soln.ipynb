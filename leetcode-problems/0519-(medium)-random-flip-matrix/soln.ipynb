{
 "cells": [
  {
   "cell_type": "markdown",
   "metadata": {},
   "source": [
    "# Random Flip Matrix\n",
    "\n",
    "https://leetcode.com/problems/random-flip-matrix/"
   ]
  },
  {
   "cell_type": "markdown",
   "metadata": {},
   "source": [
    "## Initial Thoughts\n",
    "\n",
    "- The two-dimensional grid is a shameless red herring. We just need one call to random, and we can map the random int to the size of the matrix with modulo operations\n",
    "- Can split the output of the Python random function into n chunks to get arbitrary number of integers evenly distributed.\n",
    "- The tricky part will be keeping track of not returning the same location twice.\n",
    "- We don't need to store an actual `m * n` grid in memory; that's just a mental model of what we're doing."
   ]
  },
  {
   "cell_type": "markdown",
   "metadata": {},
   "source": [
    "### Plan\n",
    "\n",
    "This took me quite some fiddling with on paper. In order to make sure we don't pick the same number twice, we're going to have to mark a number as already used. However, let's say we pick a number that has already been rolled. We're definitely not calling `random()` again, since we have a valid random number. How do we remap this though to an available index?\n",
    "\n",
    "Note - while working on this, I noticed Python has a `randrange()` function for uniformly distributed integers, so no need to do any of that ourselves. Nice.\n",
    "\n",
    "Basically, my solution is let's keep track of the number of possible indices to still be checked. Request a random int in that range. Remap any index that has been picked to the max available number (since that won't be called again, after decrementing the number of indices to be checked).\n",
    "\n",
    "And at the end, convert the index to a pair `(i, j)` via integer arithmetic (uninteresting)."
   ]
  },
  {
   "cell_type": "markdown",
   "metadata": {},
   "source": [
    "## Success\n",
    "\n",
    "After much experimentation and fiddling with arithmetic, here's my solution"
   ]
  },
  {
   "cell_type": "code",
   "execution_count": null,
   "metadata": {},
   "outputs": [],
   "source": [
    "import random\n",
    "\n",
    "class Solution:\n",
    "    def __init__(self, m: int, n: int):\n",
    "        self.m = m\n",
    "        self.n = n\n",
    "        self.reset()\n",
    "\n",
    "    def flip(self) -> list[int]:\n",
    "        randomIndex = random.randrange(self.remaining_choices)\n",
    "        self.remaining_choices -= 1\n",
    "\n",
    "\n",
    "        remappedIndex = randomIndex\n",
    "        while(remappedIndex in self.remap):\n",
    "            remappedIndex = self.remap[remappedIndex]\n",
    "        \n",
    "        self.remap[randomIndex] = self.remaining_choices\n",
    "        return list(divmod(remappedIndex, self.n))\n",
    "        \n",
    "\n",
    "    def reset(self) -> None:\n",
    "        self.remaining_choices = self.m * self.n\n",
    "        self.remap = {}"
   ]
  },
  {
   "cell_type": "markdown",
   "metadata": {},
   "source": [
    "## FASTER THAN 100% - nice\n",
    "Less memory than 66%\n",
    "\n",
    "https://leetcode.com/submissions/detail/681803129/\n",
    "\n",
    "### Complexity\n",
    "- Time: `O(m * n)`\n",
    "- Space: `O(m * n)`\n",
    "\n",
    "This one is a little weird to estimate, since the complexity is stateful... But basically the idea is that the worst case for time and space is that the complexity grows as the number of remaps, which scales with `m * n`.\n",
    "\n",
    "You could probably do a little optimization by switching the remaps halfway through and save some space... Also, it might actually be better to just store the array in memory rather than making a hashtable dictionary which potentially fills up with `m * n` elements anyway.\n",
    "\n",
    "But you know what, I got faster than 100% so I'm calling it quits."
   ]
  }
 ],
 "metadata": {
  "interpreter": {
   "hash": "2be5faf79681da6f2a61fdfdd5405d65d042280f7fba6178067603e3a2925119"
  },
  "kernelspec": {
   "display_name": "Python 3.10.0 64-bit",
   "language": "python",
   "name": "python3"
  },
  "language_info": {
   "name": "python",
   "version": "3.10.0"
  },
  "orig_nbformat": 4
 },
 "nbformat": 4,
 "nbformat_minor": 2
}
