{
 "cells": [
  {
   "cell_type": "markdown",
   "metadata": {},
   "source": [
    "# House Robber III\n",
    "\n",
    "https://leetcode.com/problems/house-robber-iii/\n",
    "\n",
    "I am choosing to believe that this is named for a man who is the third first name House, last name Robber in his family"
   ]
  },
  {
   "cell_type": "markdown",
   "metadata": {},
   "source": [
    "## Initial Thoughts\n",
    "- This one reminds me a lot of the [binary tree cameras problem](../0968-(hard)-binary-tree-cameras/).\n",
    "- Like that one, a node cannot decide what state it should be in based on its children alone.\n",
    "- After much drawing things out on paper, I find this one _much harder_ than the binary tree cameras problem.\n",
    "- This problem seems to defy my usual approach of yielding solution nodes from the tree. If a node looks at its children and computes the amount that can be stolen by different configurations of its children, it will be traversing the tree many times. This is bad. "
   ]
  },
  {
   "cell_type": "markdown",
   "metadata": {},
   "source": [
    "### Approach\n",
    "Disclaimer - there were a lot of false starts before this.\n",
    "\n",
    "- Mr. Robber III can either rob a given house or not rob a given house.\n",
    "- IF he robs a given house, he CANNOT rob its children or its parent\n",
    "- IF he does not rob a given house, he CAN rob its children and its parents\n",
    "- Therefore, when thinking about a particular house, if he knows how much he could make by robbing the children, he can determine how much he could possibly get by electing to rob the given house or not rob the given house, but he CANNOT know, without knowing about the parent house, whether robbing the current house will come at the price of a larger payout from robbing the parent house.\n",
    "\n",
    "Eventually, I cobbled together the following:"
   ]
  },
  {
   "cell_type": "markdown",
   "metadata": {},
   "source": [
    "```python\n",
    "# return max for (DO ROB THIS HOUSE, DON'T ROB THIS HOUSE)\n",
    "def evaluateRobbing(house) -> tuple[int, int]:\n",
    "    if (house is None):\n",
    "        return 0, 0\n",
    "\n",
    "    # If you DO rob this house\n",
    "    # you gain\n",
    "    robLeftMax, noRobLeftMax = evaluateRobbing(house.left)\n",
    "\n",
    "    robRightMax, noRobRightMax = evaluateRobbing(house.right)\n",
    "\n",
    "    doRobThisHouseMax = house.val + noRobLeftMax + noRobRightMax\n",
    "\n",
    "    noRobThisHouseMax = robLeftMax + robRightMax\n",
    "\n",
    "    return doRobThisHouseMax, noRobThisHouseMax\n",
    "```"
   ]
  },
  {
   "cell_type": "markdown",
   "metadata": {},
   "source": [
    "But, taking the max of the evaluation at the root failed test cases (perhaps not surprising, since it doesn't even ever use the max function along the way). \n",
    "\n",
    "Then it dawned on me - even we don't rob the current house, it may _still_ be better not to rob the child house. So, here's the full, fixed solution:"
   ]
  },
  {
   "cell_type": "code",
   "execution_count": 2,
   "metadata": {},
   "outputs": [],
   "source": [
    "# return max for (DO ROB THIS HOUSE, DON'T ROB THIS HOUSE)\n",
    "def evaluateRobbing(house) -> tuple[int, int]:\n",
    "    if (house is None):\n",
    "        return 0, 0\n",
    "\n",
    "    # If you DO rob this house\n",
    "    # you gain\n",
    "    robLeftMax, noRobLeftMax = evaluateRobbing(house.left)\n",
    "    robRightMax, noRobRightMax = evaluateRobbing(house.right)\n",
    "\n",
    "    doRobThisHouseMax = house.val + noRobLeftMax + noRobRightMax\n",
    "    noRobThisHouseMax = max(robLeftMax, noRobLeftMax) + max(robRightMax, noRobRightMax)\n",
    "\n",
    "    return doRobThisHouseMax, noRobThisHouseMax\n",
    "\n",
    "\n",
    "\n",
    "# Definition for a binary tree node.\n",
    "# class TreeNode:\n",
    "#     def __init__(self, val=0, left=None, right=None):\n",
    "#         self.val = val\n",
    "#         self.left = left\n",
    "#         self.right = right\n",
    "class Solution:\n",
    "    def rob(self, root) -> int:\n",
    "        return max(evaluateRobbing(root))\n",
    "         "
   ]
  },
  {
   "cell_type": "markdown",
   "metadata": {},
   "source": [
    "## Success\n",
    "Faster than 38%, less memory than 96%\n",
    "\n",
    "### Complexity\n",
    "- Time: `O(n)`\n",
    "- Space: `O(h)`, with `h` the depth of the tree, and our call stack.\n",
    "\n",
    "This solution isn't the most elegant. In particular, it is a little tricky to know when we are _definitely_ robbing a house, making my usual generator-based approached more tricky. I think, though, that if we wanted to, we could both return a max and a list of nodes contributing to the max, so that when we pick a path (in the second to last line), we also pass up which decision we made, rather than just the max. I'm not sure how to express that nicely with generators, since we'd need to pass up two candidate iterables, for the parent to make a decision which one to re-yield. Again, probably easier to pass up a concrete list and forgo the lazy iteration.\n",
    "\n",
    "This one is classified as a medium, but I found it harder than most hards"
   ]
  }
 ],
 "metadata": {
  "interpreter": {
   "hash": "2be5faf79681da6f2a61fdfdd5405d65d042280f7fba6178067603e3a2925119"
  },
  "kernelspec": {
   "display_name": "Python 3.10.0 64-bit",
   "language": "python",
   "name": "python3"
  },
  "language_info": {
   "codemirror_mode": {
    "name": "ipython",
    "version": 3
   },
   "file_extension": ".py",
   "mimetype": "text/x-python",
   "name": "python",
   "nbconvert_exporter": "python",
   "pygments_lexer": "ipython3",
   "version": "3.10.0"
  },
  "orig_nbformat": 4
 },
 "nbformat": 4,
 "nbformat_minor": 2
}
