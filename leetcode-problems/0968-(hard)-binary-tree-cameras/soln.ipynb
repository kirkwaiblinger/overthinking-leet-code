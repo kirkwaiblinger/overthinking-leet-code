{
 "cells": [
  {
   "cell_type": "markdown",
   "metadata": {},
   "source": [
    "# Binary Tree Cameras\n",
    "https://leetcode.com/problems/binary-tree-cameras/"
   ]
  },
  {
   "cell_type": "markdown",
   "metadata": {},
   "source": [
    "## Initial Thoughts\n",
    "- The problem asks for the minimum number of nodes necessary. We should be able to establish a mathematical upper bound for the minimum without fully traversing the tree\n",
    "- If we must traverse the tree fully, it is slightly tricky to determine whether a particular node needs to be a camera, since that depends on its parent\n",
    "- There is no use in any leaf node being a camera (except for the edge case in which it's also the root). In general, putting the camera on the parent will either decrease or keep the same the number of cameras needed.\n",
    "- The optimal configuration is in general not unique"
   ]
  },
  {
   "cell_type": "markdown",
   "metadata": {},
   "source": [
    "### Bounding the number of cameras\n",
    "- Consider the case in which we have a tree that is fully degenerate, i.e. a single branch. A camera can account for up to three nodes. So placing the cameras as spaced out as possible gives us that we need at minimum `MIN_CAMERAS = ceiling(n / 3)` cameras\n",
    "- When we have branches, each camera can potentially account for up to 4 nodes, so the minimum must be `MIN_CAMERAS >= ceiling(n / 4)` nodes. The degenerate case is the worst case, so in general we have `ceiling(n / 4) <= MIN_CAMERAS <= ceiling(n / 3)`\n",
    "- This exact number for does depend on the location of these branches. We are going to have to iterate through the tree."
   ]
  },
  {
   "cell_type": "markdown",
   "metadata": {},
   "source": [
    "### Iteration plan (constructive)\n",
    "- If a node is a leaf, it doesn't need a camera. Its parent can handle that (assuming it has a parent).\n",
    "- Since that's an easy base case let's do DFS.\n",
    "- If a node has a child that is a camera it is watched.\n",
    "- If a node has an unwatched child, it now must be a camera (since we are doing DFS)\n",
    "- If a node has no unwatched children, it does not need to be a camera (unless it is the root)\n",
    "\n",
    "\n",
    "Let's try it"
   ]
  },
  {
   "cell_type": "markdown",
   "metadata": {},
   "source": [
    "```python\n",
    "def yieldCameraLocations(node):\n",
    "    if node.left is None and node.right is None:\n",
    "        return\n",
    "\n",
    "    if node.left is not None:\n",
    "        # recurse; yield all camera nodes on the left\n",
    "        # node.left could be\n",
    "        #     1. a camera\n",
    "        #     2. watched\n",
    "        #     3. as-yet unwatched\n",
    "\n",
    "    # Repeat steps with respect to node.right\n",
    "\n",
    "    if isEitherChildUnwatched:\n",
    "        # current node must be a camera\n",
    "        yield node\n",
    "        # stop iteration\n",
    "        return\n",
    "\n",
    "    if isRoot and not isEitherChildACamera\n",
    "        # current node must be a camera\n",
    "        yield node\n",
    "        # stop iteration\n",
    "        return\n",
    "```"
   ]
  },
  {
   "cell_type": "markdown",
   "metadata": {},
   "source": [
    "Note that there's some holes to fill in. The obvious question is: how do we figure out whether a child node is a camera, watched, or unwatched? A given node knows whether it is a camera, watched, or unwatched, based on the value of its children alone, i.e. a node shouldn't traverse layers deep of its children to find out what state a child is in, since the child already knows. IMO it's a little hacky, but with generators we can both yield values (the known cameras, to be just re-yielded) AND return a value (direct child-to-parent communication). So let's just do that."
   ]
  },
  {
   "cell_type": "code",
   "execution_count": 4,
   "metadata": {},
   "outputs": [],
   "source": [
    "# This generator yields all known camera locations and returns a tuple of booleans - isCamera, isWatched\n",
    "# note - in other languages, an enum would be more clean IMO, since there are really just three states. \n",
    "def yieldCameraLocations(node, isRoot = True):\n",
    "    isEitherChildUnwatched = False\n",
    "    isEitherChildCamera = False\n",
    "\n",
    "    if node.left is not None:\n",
    "        isCamera, isWatched = yield from yieldCameraLocations(node.left, False)\n",
    "\n",
    "        isEitherChildCamera = isEitherChildCamera or isCamera\n",
    "        isEitherChildUnwatched = isEitherChildUnwatched or not isWatched\n",
    "\n",
    "    if node.right is not None:\n",
    "        isCamera, isWatched = yield from yieldCameraLocations(node.right, False)\n",
    "\n",
    "        isEitherChildCamera = isEitherChildCamera or isCamera\n",
    "        isEitherChildUnwatched = isEitherChildUnwatched or not isWatched\n",
    "    \n",
    "    if isEitherChildUnwatched:\n",
    "        yield node\n",
    "        return True, True\n",
    "\n",
    "    if isRoot and not isEitherChildCamera:\n",
    "        yield node\n",
    "        # Doesn't really matter what we return since no parent is listening\n",
    "        return\n",
    "\n",
    "    return False, isEitherChildCamera"
   ]
  },
  {
   "cell_type": "markdown",
   "metadata": {},
   "source": [
    "If that works, all that's left to do is count the number of nodes that we yield"
   ]
  },
  {
   "cell_type": "code",
   "execution_count": null,
   "metadata": {},
   "outputs": [],
   "source": [
    "def solution(root):\n",
    "    if root is None:\n",
    "        return 0\n",
    "    \n",
    "    return sum(1 for camera in yieldCameraLocations(root))\n"
   ]
  },
  {
   "cell_type": "markdown",
   "metadata": {},
   "source": [
    "## Success\n",
    "Faster than 83%, less memory than 92%. And we still constructed an optimal solution on the way, in case we're asked for it."
   ]
  },
  {
   "cell_type": "markdown",
   "metadata": {},
   "source": [
    "### Complexity analysis\n",
    "\n",
    "- Time: `O(n)`, with `n` the number of nodes in the tree\n",
    "- Space: `O(h)`, with `h` the depth of the tree (and thus our call stack)"
   ]
  }
 ],
 "metadata": {
  "interpreter": {
   "hash": "2be5faf79681da6f2a61fdfdd5405d65d042280f7fba6178067603e3a2925119"
  },
  "kernelspec": {
   "display_name": "Python 3.10.0 64-bit",
   "language": "python",
   "name": "python3"
  },
  "language_info": {
   "codemirror_mode": {
    "name": "ipython",
    "version": 3
   },
   "file_extension": ".py",
   "mimetype": "text/x-python",
   "name": "python",
   "nbconvert_exporter": "python",
   "pygments_lexer": "ipython3",
   "version": "3.10.0"
  },
  "orig_nbformat": 4
 },
 "nbformat": 4,
 "nbformat_minor": 2
}
