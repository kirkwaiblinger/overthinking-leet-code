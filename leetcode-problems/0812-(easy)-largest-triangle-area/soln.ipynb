{
 "cells": [
  {
   "cell_type": "markdown",
   "metadata": {},
   "source": [
    "# Largest Triangle Area\n",
    "https://leetcode.com/problems/largest-triangle-area/\n"
   ]
  },
  {
   "cell_type": "markdown",
   "metadata": {},
   "source": [
    "## Initial Thoughts\n",
    "- The example provided on leetcode shows a configuration where finding the points with max/min coordinates gives the biggest triangle. That is not true in general\n",
    "- Played around for quite some time with figuring out whether reflecting triangles about various axes is of any use towards determining their area, either exactly or approximately. It does not seem to be. Obviously the classic formula for triangle area is `1/2 * base * height`, which (again) works for the triangle shown in the example, not for a general triangle. Indeed, this would work with any triangle with multiple points aligned on an axis... But that's not what we're working with.\n",
    "- Can bounding boxes help us? We definitely don't need to check a triangle whose bounding box is smaller than the the known area.\n",
    "- However, unclear that the above allows us to save on time complexity\n",
    "- Speaking of which, the dumb way to solve this problem is just find all combinations of points and compute areas, which is an `O(n^3)` operation. \n",
    "- It occurs to me that, while working on other things, I've run into the concept of quad trees and such... that might be able to help us here."
   ]
  },
  {
   "cell_type": "markdown",
   "metadata": {},
   "source": [
    "### Area of a general triangle with arbitrary coordinates\n",
    "\n",
    "Looked it up, there's a simple general formula for this that circumvents the need for any square roots, etc. that result from computing side lengths.\n",
    "Simply the determinant of a matrix. We'll just write out the result, though, so the computer doesn't have to do anything fancy at runtime."
   ]
  },
  {
   "cell_type": "code",
   "execution_count": 1,
   "metadata": {},
   "outputs": [],
   "source": [
    "def pointsToTriangleArea(p1, p2, p3):\n",
    "    x1, y1 = p1\n",
    "    x2, y2 = p2\n",
    "    x3, y3 = p3\n",
    "    return 0.5 * (x1 * (y2 - y3) + x2 * (y3 - y1) + x3 * (y1 - y2))"
   ]
  },
  {
   "cell_type": "markdown",
   "metadata": {},
   "source": [
    "### Dumb solution - test all combinations"
   ]
  },
  {
   "cell_type": "code",
   "execution_count": 2,
   "metadata": {},
   "outputs": [],
   "source": [
    "from itertools import combinations\n",
    "def dumbSolution(points):\n",
    "    return max(pointsToTriangleArea(*combo) for combo in combinations(points, 3))"
   ]
  },
  {
   "cell_type": "markdown",
   "metadata": {},
   "source": [
    "Wrong answer!\n",
    "Forgot the absolute value in the area. Here's the fix"
   ]
  },
  {
   "cell_type": "code",
   "execution_count": null,
   "metadata": {},
   "outputs": [],
   "source": [
    "def pointsToTriangleArea(p1, p2, p3):\n",
    "    x1, y1 = p1\n",
    "    x2, y2 = p2\n",
    "    x3, y3 = p3\n",
    "    return 0.5 * abs(x1 * (y2 - y3) + x2 * (y3 - y1) + x3 * (y1 - y2))"
   ]
  },
  {
   "cell_type": "markdown",
   "metadata": {},
   "source": [
    "## Success\n",
    "\n",
    "Shockingly, my \"dumb solution\" comes in at faster than 95% and less memory than 98%. \n",
    "\n",
    "### Complexity\n",
    "\n",
    "- Time: `O(n^3)`\n",
    "- Space: `O(n)`, the size of the input list. \n",
    "\n",
    "(We could have just done these as triply nested for loops, accessing the input list by index, and kept track of the running max. I'm assuming that's more or less how itertools implements these)\n",
    "\n",
    "### Parting thoughts\n",
    "Looking around at what other people have done on the leetcode discussion, it looks like most people come up with the same `O(n^3)` solution. I'm very suspicious of this being optimal. I feel like a graphics person would know how to make a better time complexity... I guess I'll take my 95th percentile for now though\n",
    "\n",
    "Mayybe the bounding box idea would be a _slight_ performance boost? It could save a few unnecessary multiplications, but that's it. No improvement to time complexity, since we're still iterating through n^3 points.\n",
    "\n",
    "#### EDIT\n",
    "The problem guarantees a maximum number of points of 50, which means the test cases on leetcode.com quite possibly do not demonstrate asymptotic behavior. Therefore there's a chance that the `O(n^3)` solution is ranked so highly because of overfitting the test cases"
   ]
  }
 ],
 "metadata": {
  "interpreter": {
   "hash": "2be5faf79681da6f2a61fdfdd5405d65d042280f7fba6178067603e3a2925119"
  },
  "kernelspec": {
   "display_name": "Python 3.10.0 64-bit",
   "language": "python",
   "name": "python3"
  },
  "language_info": {
   "codemirror_mode": {
    "name": "ipython",
    "version": 3
   },
   "file_extension": ".py",
   "mimetype": "text/x-python",
   "name": "python",
   "nbconvert_exporter": "python",
   "pygments_lexer": "ipython3",
   "version": "3.10.0"
  },
  "orig_nbformat": 4
 },
 "nbformat": 4,
 "nbformat_minor": 2
}
